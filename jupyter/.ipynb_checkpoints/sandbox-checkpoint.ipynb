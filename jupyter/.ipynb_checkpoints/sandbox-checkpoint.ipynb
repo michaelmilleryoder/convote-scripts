{
 "cells": [
  {
   "cell_type": "code",
   "execution_count": 21,
   "metadata": {
    "collapsed": true
   },
   "outputs": [],
   "source": [
    "import os\n",
    "import pandas as pd\n",
    "from sklearn.feature_extraction.text import TfidfVectorizer\n",
    "from sklearn.naive_bayes import MultinomialNB\n",
    "import numpy as np"
   ]
  },
  {
   "cell_type": "markdown",
   "metadata": {},
   "source": [
    "# Baseline unigram prediction"
   ]
  },
  {
   "cell_type": "code",
   "execution_count": 3,
   "metadata": {
    "collapsed": false
   },
   "outputs": [
    {
     "name": "stdout",
     "output_type": "stream",
     "text": [
      "5660\n",
      "1759\n"
     ]
    }
   ],
   "source": [
    "# Load train and test\n",
    "train = pd.read_csv('/home/michael/school/research/convote/convote_1train.csv')\n",
    "test = pd.read_csv('/home/michael/school/research/convote/convote_1test.csv')\n",
    "print(len(train))\n",
    "print(len(test))"
   ]
  },
  {
   "cell_type": "code",
   "execution_count": 6,
   "metadata": {
    "collapsed": false
   },
   "outputs": [
    {
     "data": {
      "text/plain": [
       "Index(['id', 'party', 'text'], dtype='object')"
      ]
     },
     "execution_count": 6,
     "metadata": {},
     "output_type": "execute_result"
    }
   ],
   "source": [
    "train.columns"
   ]
  },
  {
   "cell_type": "code",
   "execution_count": 18,
   "metadata": {
    "collapsed": false,
    "scrolled": true
   },
   "outputs": [
    {
     "data": {
      "text/plain": [
       "(5660,)"
      ]
     },
     "execution_count": 18,
     "metadata": {},
     "output_type": "execute_result"
    }
   ],
   "source": [
    "train['text'].values.shape"
   ]
  },
  {
   "cell_type": "code",
   "execution_count": 17,
   "metadata": {
    "collapsed": false
   },
   "outputs": [
    {
     "data": {
      "text/plain": [
       "array([ \"mr. speaker , i rise in opposition to the rules package that we have before us today . \\nit is outrageous that my republican colleagues have placed before us a rules package that at best lacks integrity , and at worst is completely unethical . \\nas the highest body of elected officials in our country , we should be held to the highest ethical standards . \\nbut instead , my republican colleagues have opted to put before us a rules package that actually lowers our ethics standards , so that they may promote their own agenda , at whatever cost . \\nthis rules package makes it far more difficult for ethics investigations to take place . \\nby requiring a majority of the ethics committee before an investigation can even begin , we are in great danger of diminishing the integrity of our great institution . \\nwith this new rule , the majority party can effectively block any ethics investigation of a member of their party . \\nthis is an abuse of power . \\nand it 's not just democrats who oppose this plan . \\namericans across the country have expressed their opposition to this plan . \\nmy democratic colleagues and i have a better plan that will strengthen the ethics rules to improve congressional accountability and to make sure that legislation is properly considered . \\nthe republican plan fails to close a loophole that allows legislation to be considered before members have read it . \\nlast year this led to the passage of a provision that would have let the federal government deeply invade citizens ' privacy by reading their tax returns . \\ni am appalled that the republicans have failed to include the democratic provision to tighten this loophole . \\nmr. speaker , i urge my colleagues to vote `` no '' on the resolution , so that we do not allow this rules package to become law . \\n\",\n",
       "       'mr. speaker , i rise for a constitutional point of order . \\n',\n",
       "       \"mr. speaker , the resolution we are preparing to consider , the proposed rules for the 109th congress , in my judgment violates the united states constitution which we were just sworn to uphold and defend . \\nit does so by allowing a very limited number of members , potentially only a handful , to constitute the house of representatives . \\narticle 1 , section 5 of the constitution states that `` each house shall be the judge of the elections , returns and qualifications of its members , and a majority of each shall constitute a quorum to do business ; but a small number adjourn from day to day , and may be authorized to compel the attendance of absent members. '' unfortunately , h. res. 5 seeks to allow a small number not just to adjourn or compel attendance , as the constitution stipulates , but to enact laws , declare war , impeach the president , and fulfill all other article i responsibilities . \\nthe very first act of the very first congress of the united states was to recess day after day after day because they lacked a quorum . \\njust moments ago everyone in this body took an oath to uphold and defend the constitution , and now our first official vote is by rule to undermine a fundamental principle of that constitution , i.e. , what is a quorum . \\nit is my understanding that the speaker is reluctant to judge on matters of constitutionality . \\ni respect that . \\nbut i would reserve and inform the speaker it is my intent to ask the question of consideration to be put . \\n\",\n",
       "       ...,\n",
       "       \"i thank the chairman for yielding . \\nas a member of the international relations committee , i rise in strong support of this resolution and take a moment to express our prayers and good wishes to the author of this resolution , who labors at the side of his namesake at this very hour in a hospice in illinois . \\nit is extraordinary day today , mr. speaker , as a member of congress that has had the privilege to travel to operation iraqi freedom on three different occasions , the news that 11 million iraqis , with iraqis on point handling the security during these elections , 70 percent of iraqis turned out . \\nit was , in no uncertain terms , a victory for democracy in iraq . \\nand it is my privilege and honor to rise this morning on this floor in support of the rule and the underlying resolution that confirms this great day in the history of freedom , december 15 , 2005 , when millions of iraqis defied terrorists to say `` yes '' to democracy . \\ni stand also in support of the affirmative statements in this resolution that this house of representatives is committed to achieving victory in iraq and sees this election as a crucial victory for the iraqi people and a defeat for the terrorists in that country . \\nit is also in this resolution an effort to state emphatically the rejection of the wisdom of an artificial time line and also to recognize the extraordinary sacrifices made by members of the united states armed forces and their families . \\nit is about them that i rise especially today , mr. speaker . \\nthis week at my office in muncie , indiana , a group of the citizens that i have the privilege of serving came to protest our military presence in iraq , to urge the withdrawal , as some have done and continue to do , of our forces from this nation . \\nand while it is their right to do so , let me say emphatically , it is my duty to stand with our commander in chief , to stand with our soldiers in the field , and to stand with the good people of iraq until we achieve a total victory for freedom in this nation . \\ni derive that sense of duty from seven names that i felt obligated to mention today . \\nthey are the names of the soldiers that i represented until they stepped into eternity , who fell in operation iraqi freedom , from eastern indiana . \\nlance corporal matthew smith . \\nprivate shawn pahnke . \\nspecialist chad keith . \\nstaff sergeant frederick miller , jr . \\nsergeant robert colvill , jr . \\nspecialist raymond white . \\nlance corporal scott zubowski . \\nthese seven men did n't leave their post , and this congressman wo n't , either . \\nit is them and to their credit and to their grieving families that i rise in support of this resolution today . \\nit is the sacrifices of over 2 , 000 american soldiers who laid down their lives for the freedom that we saw demonstrated in the streets of every corner of iraq yesterday that i support this resolution . \\n\",\n",
       "       'mr. speaker , i am here today in support of the rule and the underlying resolution , in very strong support . \\ni am here as a member of congress . \\ni am here as a 31-year veteran of the army reserves and the national guard . \\ni am also proud to be the father of a son who served for a year in iraq . \\ni know firsthand of the progress that is being made there , along with other members of congress . \\nwe should be proud that chairman hunter , his son served in the marines for a year in mosul . \\nmr. skelton had a son serve in afghanistan in the war on terrorism . \\nmr. taylor xz4003992 of north carolina , mr. akin xz4000050 of missouri , mr. kline xz4002240 of minnesota , ms. ros-lehtinen xz4003440 of florida , and mr. saxton xz4003590 of new jersey , all of us have had family members who have participated in the global war on terror , and we are so proud of their successes . \\nadditionally , i would tell you that i disagree with democratic leader pelosi . \\ni believe that her position is wrong . \\ni believe that proposing a withdrawal is giving your game plan ahead of time . \\nyou do not do it in football ; you do not do it in politics . \\nand you do not do it in a time of war . \\nit is my view that we should understand that war is unpredictable . \\nof all times , this week 61 years ago we found out the unpredictability of war and that is the battle of bulge . \\ntens of thousands of german troops secretly were located in the ardennes forest , attacked our troops in luxembourg , in belgium , and in germany itself , and we lost 17 , 000 americans . \\nthis could not be projected , this surprise attack . \\nwe need to be prepared . \\nso i am very proud that indeed progress is being made . \\nour president has a wonderful plan of developing the iraqi security forces , developing the iraqi economy and the political situation , as we saw yesterday with the historic turnout of millions of iraqis to build a civil society . \\nand the bottom line is , it protects the american people . \\nthis is exactly what america did after world war ii , developing the democratic society of japan which now is one of our great allies . \\nwe have the same potential to protect american families now . \\n',\n",
       "       \"mr. speaker , today , without a doubt , we should congratulate the iraqi people for what appears to be a successful , high-turnout election . \\nfor the third time this year , courageous iraqi citizens have enthusiastically exercised their democratic rights . \\nbut successful elections do not , and can not , obscure the devastating national tragedy that is the iraq war . \\nit does n't change the fact that over 2 , 100 americans have died for weapons of mass destruction that never existed . \\nit does n't change the fact that this war has turned iraq into a hotbed of terrorist activity . \\nit does n't change the fact that our troops are sitting ducks for the insurgents , who have been emboldened -- not deterred -- by our military presence in iraq . \\nhere 's the bottom line : a successful iraqi election should , at the very least , reinforce the imperative of bringing our troops home . \\nif iraq is truly able to self-govern , then we have no business occupying their country and meddling in their affairs . \\ni 've argued all year long that it 's time to restore iraqi sovereignty and give iraq back to the iraqi people . \\nif the election is a watershed moment as the white house claims ... .. \\nthen what is the continued justification for having our troops over there in harm 's way ? \\nnow is the time to enlist the support of the international community to establish an interim security force for iraq . \\nbut that 's just the start . \\nas i 've written to the president in a letter signed by 61 other members of the house , the united states must also launch a `` diplomatic offensive , '' recasting our role in iraq as reconstruction partner rather than military occupier . \\nwe must also lead the way in establishing an international peace commission to oversee the post-war reconciliation and coordinate peace talks between iraq 's various factions . \\nthe majority of the american people are n't behind it . \\nour global allies are n't behind it . \\nthe iraqi people are n't behind it . \\neven iraqi leaders -- sunni , shiite and kurdish alike , who agree on practically nothing -- have united around a call for the united states military to leave . \\nwith the iraqi people having voted once again , let 's offer the ultimate vote of confidence in their democracy . \\nlet 's reward the self-sufficiency they 've demonstrated -- by giving them their country back and bringing american soldiers home . \\n\"], dtype=object)"
      ]
     },
     "execution_count": 17,
     "metadata": {},
     "output_type": "execute_result"
    }
   ],
   "source": [
    "train['text'].values"
   ]
  },
  {
   "cell_type": "code",
   "execution_count": 22,
   "metadata": {
    "collapsed": false
   },
   "outputs": [
    {
     "data": {
      "text/plain": [
       "(4,)"
      ]
     },
     "execution_count": 22,
     "metadata": {},
     "output_type": "execute_result"
    }
   ],
   "source": [
    "sample_corp = np.asarray(['i dont know', 'whats up', 'with this stuff', 'stuff'])\n",
    "sample_corp.shape"
   ]
  },
  {
   "cell_type": "code",
   "execution_count": 25,
   "metadata": {
    "collapsed": false
   },
   "outputs": [
    {
     "data": {
      "text/plain": [
       "str"
      ]
     },
     "execution_count": 25,
     "metadata": {},
     "output_type": "execute_result"
    }
   ],
   "source": [
    "type(train['text'].values[0])"
   ]
  },
  {
   "cell_type": "code",
   "execution_count": 27,
   "metadata": {
    "collapsed": false
   },
   "outputs": [
    {
     "data": {
      "text/plain": [
       "(10,)"
      ]
     },
     "execution_count": 27,
     "metadata": {},
     "output_type": "execute_result"
    }
   ],
   "source": [
    "s = train['text'].values[0:10]\n",
    "s.shape"
   ]
  },
  {
   "cell_type": "code",
   "execution_count": 23,
   "metadata": {
    "collapsed": false
   },
   "outputs": [
    {
     "name": "stdout",
     "output_type": "stream",
     "text": [
      "(4, 7)\n"
     ]
    }
   ],
   "source": [
    "v = TfidfVectorizer(min_df=1)\n",
    "bow = v.fit_transform(sample_corp)\n",
    "\n",
    "print(bow.shape)"
   ]
  },
  {
   "cell_type": "code",
   "execution_count": 30,
   "metadata": {
    "collapsed": false
   },
   "outputs": [
    {
     "name": "stdout",
     "output_type": "stream",
     "text": [
      "(5660, 15319)\n",
      "(1759, 15319)\n"
     ]
    }
   ],
   "source": [
    "v = TfidfVectorizer(min_df=1)\n",
    "\n",
    "X_train = train['text'].values\n",
    "X_test = test['text'].values\n",
    "\n",
    "bow = v.fit(X_train)\n",
    "bow = v.fit(X_test)\n",
    "\n",
    "bow_train = v.transform(X_train)\n",
    "bow_test = v.transform(X_test)\n",
    "\n",
    "print(bow_train.shape)\n",
    "print(bow_test.shape)"
   ]
  },
  {
   "cell_type": "code",
   "execution_count": null,
   "metadata": {
    "collapsed": true
   },
   "outputs": [],
   "source": [
    "bow_train"
   ]
  },
  {
   "cell_type": "code",
   "execution_count": 16,
   "metadata": {
    "collapsed": false
   },
   "outputs": [
    {
     "data": {
      "text/plain": [
       "(5660,)"
      ]
     },
     "execution_count": 16,
     "metadata": {},
     "output_type": "execute_result"
    }
   ],
   "source": [
    "train['party'].values.shape"
   ]
  },
  {
   "cell_type": "code",
   "execution_count": 8,
   "metadata": {
    "collapsed": false
   },
   "outputs": [
    {
     "ename": "ValueError",
     "evalue": "Found input variables with inconsistent numbers of samples: [3, 5660]",
     "output_type": "error",
     "traceback": [
      "\u001b[0;31m---------------------------------------------------------------------------\u001b[0m",
      "\u001b[0;31mValueError\u001b[0m                                Traceback (most recent call last)",
      "\u001b[0;32m<ipython-input-8-0eb8f2193ea4>\u001b[0m in \u001b[0;36m<module>\u001b[0;34m()\u001b[0m\n\u001b[1;32m      1\u001b[0m \u001b[0mclf\u001b[0m \u001b[0;34m=\u001b[0m \u001b[0mMultinomialNB\u001b[0m\u001b[0;34m(\u001b[0m\u001b[0;34m)\u001b[0m\u001b[0;34m\u001b[0m\u001b[0m\n\u001b[0;32m----> 2\u001b[0;31m \u001b[0mclf\u001b[0m\u001b[0;34m.\u001b[0m\u001b[0mfit\u001b[0m\u001b[0;34m(\u001b[0m\u001b[0mbow_train\u001b[0m\u001b[0;34m,\u001b[0m \u001b[0mtrain\u001b[0m\u001b[0;34m[\u001b[0m\u001b[0;34m'party'\u001b[0m\u001b[0;34m]\u001b[0m\u001b[0;34m.\u001b[0m\u001b[0mtolist\u001b[0m\u001b[0;34m(\u001b[0m\u001b[0;34m)\u001b[0m\u001b[0;34m)\u001b[0m\u001b[0;34m\u001b[0m\u001b[0m\n\u001b[0m",
      "\u001b[0;32m/home/michael/anaconda3/lib/python3.6/site-packages/sklearn/naive_bayes.py\u001b[0m in \u001b[0;36mfit\u001b[0;34m(self, X, y, sample_weight)\u001b[0m\n\u001b[1;32m    560\u001b[0m             \u001b[0mReturns\u001b[0m \u001b[0mself\u001b[0m\u001b[0;34m.\u001b[0m\u001b[0;34m\u001b[0m\u001b[0m\n\u001b[1;32m    561\u001b[0m         \"\"\"\n\u001b[0;32m--> 562\u001b[0;31m         \u001b[0mX\u001b[0m\u001b[0;34m,\u001b[0m \u001b[0my\u001b[0m \u001b[0;34m=\u001b[0m \u001b[0mcheck_X_y\u001b[0m\u001b[0;34m(\u001b[0m\u001b[0mX\u001b[0m\u001b[0;34m,\u001b[0m \u001b[0my\u001b[0m\u001b[0;34m,\u001b[0m \u001b[0;34m'csr'\u001b[0m\u001b[0;34m)\u001b[0m\u001b[0;34m\u001b[0m\u001b[0m\n\u001b[0m\u001b[1;32m    563\u001b[0m         \u001b[0m_\u001b[0m\u001b[0;34m,\u001b[0m \u001b[0mn_features\u001b[0m \u001b[0;34m=\u001b[0m \u001b[0mX\u001b[0m\u001b[0;34m.\u001b[0m\u001b[0mshape\u001b[0m\u001b[0;34m\u001b[0m\u001b[0m\n\u001b[1;32m    564\u001b[0m \u001b[0;34m\u001b[0m\u001b[0m\n",
      "\u001b[0;32m/home/michael/anaconda3/lib/python3.6/site-packages/sklearn/utils/validation.py\u001b[0m in \u001b[0;36mcheck_X_y\u001b[0;34m(X, y, accept_sparse, dtype, order, copy, force_all_finite, ensure_2d, allow_nd, multi_output, ensure_min_samples, ensure_min_features, y_numeric, warn_on_dtype, estimator)\u001b[0m\n\u001b[1;32m    529\u001b[0m         \u001b[0my\u001b[0m \u001b[0;34m=\u001b[0m \u001b[0my\u001b[0m\u001b[0;34m.\u001b[0m\u001b[0mastype\u001b[0m\u001b[0;34m(\u001b[0m\u001b[0mnp\u001b[0m\u001b[0;34m.\u001b[0m\u001b[0mfloat64\u001b[0m\u001b[0;34m)\u001b[0m\u001b[0;34m\u001b[0m\u001b[0m\n\u001b[1;32m    530\u001b[0m \u001b[0;34m\u001b[0m\u001b[0m\n\u001b[0;32m--> 531\u001b[0;31m     \u001b[0mcheck_consistent_length\u001b[0m\u001b[0;34m(\u001b[0m\u001b[0mX\u001b[0m\u001b[0;34m,\u001b[0m \u001b[0my\u001b[0m\u001b[0;34m)\u001b[0m\u001b[0;34m\u001b[0m\u001b[0m\n\u001b[0m\u001b[1;32m    532\u001b[0m \u001b[0;34m\u001b[0m\u001b[0m\n\u001b[1;32m    533\u001b[0m     \u001b[0;32mreturn\u001b[0m \u001b[0mX\u001b[0m\u001b[0;34m,\u001b[0m \u001b[0my\u001b[0m\u001b[0;34m\u001b[0m\u001b[0m\n",
      "\u001b[0;32m/home/michael/anaconda3/lib/python3.6/site-packages/sklearn/utils/validation.py\u001b[0m in \u001b[0;36mcheck_consistent_length\u001b[0;34m(*arrays)\u001b[0m\n\u001b[1;32m    179\u001b[0m     \u001b[0;32mif\u001b[0m \u001b[0mlen\u001b[0m\u001b[0;34m(\u001b[0m\u001b[0muniques\u001b[0m\u001b[0;34m)\u001b[0m \u001b[0;34m>\u001b[0m \u001b[0;36m1\u001b[0m\u001b[0;34m:\u001b[0m\u001b[0;34m\u001b[0m\u001b[0m\n\u001b[1;32m    180\u001b[0m         raise ValueError(\"Found input variables with inconsistent numbers of\"\n\u001b[0;32m--> 181\u001b[0;31m                          \" samples: %r\" % [int(l) for l in lengths])\n\u001b[0m\u001b[1;32m    182\u001b[0m \u001b[0;34m\u001b[0m\u001b[0m\n\u001b[1;32m    183\u001b[0m \u001b[0;34m\u001b[0m\u001b[0m\n",
      "\u001b[0;31mValueError\u001b[0m: Found input variables with inconsistent numbers of samples: [3, 5660]"
     ]
    }
   ],
   "source": [
    "clf = MultinomialNB()\n",
    "clf.fit(bow_train, train['party'].tolist())"
   ]
  },
  {
   "cell_type": "markdown",
   "metadata": {},
   "source": [
    "# Create dataset"
   ]
  },
  {
   "cell_type": "markdown",
   "metadata": {},
   "source": [
    "## Training set"
   ]
  },
  {
   "cell_type": "code",
   "execution_count": 3,
   "metadata": {
    "collapsed": false
   },
   "outputs": [
    {
     "data": {
      "text/plain": [
       "5660"
      ]
     },
     "execution_count": 3,
     "metadata": {},
     "output_type": "execute_result"
    }
   ],
   "source": [
    "data_dirpath = '/home/michael/school/research/convote/convote_v1.1/data_stage_one/training_set/'\n",
    "\n",
    "outlines = []\n",
    "\n",
    "for fname in sorted(os.listdir(data_dirpath)):\n",
    "    party = fname[-7].lower()\n",
    "    \n",
    "    with open(os.path.join(data_dirpath, fname)) as f:\n",
    "        text = f.read()\n",
    "        \n",
    "    id = fname[:-4]\n",
    "    \n",
    "    outlines.append([id, party, text])\n",
    "    \n",
    "len(outlines)"
   ]
  },
  {
   "cell_type": "code",
   "execution_count": 5,
   "metadata": {
    "collapsed": false
   },
   "outputs": [],
   "source": [
    "pd.DataFrame(outlines, columns=['id', 'party', 'text']).to_csv('/home/michael/school/research/convote/convote_1train.csv', index=False)"
   ]
  },
  {
   "cell_type": "markdown",
   "metadata": {},
   "source": [
    "## Test set"
   ]
  },
  {
   "cell_type": "code",
   "execution_count": 7,
   "metadata": {
    "collapsed": false
   },
   "outputs": [
    {
     "data": {
      "text/plain": [
       "1759"
      ]
     },
     "execution_count": 7,
     "metadata": {},
     "output_type": "execute_result"
    }
   ],
   "source": [
    "data_dirpath = '/home/michael/school/research/convote/convote_v1.1/data_stage_one/test_set/'\n",
    "\n",
    "outlines = []\n",
    "\n",
    "for fname in sorted(os.listdir(data_dirpath)):\n",
    "    party = fname[-7].lower()\n",
    "    \n",
    "    with open(os.path.join(data_dirpath, fname)) as f:\n",
    "        text = f.read()\n",
    "        \n",
    "    id = fname[:-4]\n",
    "    \n",
    "    outlines.append([id, party, text])\n",
    "    \n",
    "len(outlines)"
   ]
  },
  {
   "cell_type": "code",
   "execution_count": 8,
   "metadata": {
    "collapsed": false
   },
   "outputs": [],
   "source": [
    "pd.DataFrame(outlines, columns=['id', 'party', 'text']).to_csv('/home/michael/school/research/convote/convote_1test.csv', index=False)"
   ]
  }
 ],
 "metadata": {
  "kernelspec": {
   "display_name": "Python 3",
   "language": "python",
   "name": "python3"
  },
  "language_info": {
   "codemirror_mode": {
    "name": "ipython",
    "version": 3
   },
   "file_extension": ".py",
   "mimetype": "text/x-python",
   "name": "python",
   "nbconvert_exporter": "python",
   "pygments_lexer": "ipython3",
   "version": "3.6.0"
  }
 },
 "nbformat": 4,
 "nbformat_minor": 2
}
