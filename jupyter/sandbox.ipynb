{
 "cells": [
  {
   "cell_type": "code",
   "execution_count": 34,
   "metadata": {
    "collapsed": true
   },
   "outputs": [],
   "source": [
    "import os\n",
    "import pandas as pd\n",
    "from sklearn.feature_extraction.text import TfidfVectorizer\n",
    "from sklearn.naive_bayes import MultinomialNB\n",
    "from sklearn import svm\n",
    "import numpy as np"
   ]
  },
  {
   "cell_type": "markdown",
   "metadata": {},
   "source": [
    "# Baselines"
   ]
  },
  {
   "cell_type": "code",
   "execution_count": 32,
   "metadata": {
    "collapsed": false
   },
   "outputs": [
    {
     "name": "stdout",
     "output_type": "stream",
     "text": [
      "6362\n",
      "1759\n"
     ]
    }
   ],
   "source": [
    "# Load train and test\n",
    "train = pd.read_csv('/home/michael/school/research/convote/convote_1train_dev.csv')\n",
    "test = pd.read_csv('/home/michael/school/research/convote/convote_1test.csv')\n",
    "print(len(train))\n",
    "print(len(test))"
   ]
  },
  {
   "cell_type": "markdown",
   "metadata": {},
   "source": [
    "## Unigrams"
   ]
  },
  {
   "cell_type": "code",
   "execution_count": 62,
   "metadata": {
    "collapsed": false,
    "scrolled": true
   },
   "outputs": [
    {
     "name": "stdout",
     "output_type": "stream",
     "text": [
      "(6362, 15030)\n",
      "(1759, 15030)\n"
     ]
    }
   ],
   "source": [
    "v = TfidfVectorizer(min_df=1, stop_words='english')\n",
    "\n",
    "bow_train = train['text'].values\n",
    "bow_test = test['text'].values\n",
    "y_train = train['party'].values\n",
    "y_test = test['party'].values\n",
    "\n",
    "bow = v.fit(bow_train)\n",
    "bow = v.fit(bow_test)\n",
    "\n",
    "X_train = v.transform(bow_train)\n",
    "X_test = v.transform(bow_test)\n",
    "\n",
    "print(X_train.shape)\n",
    "print(X_test.shape)"
   ]
  },
  {
   "cell_type": "code",
   "execution_count": 63,
   "metadata": {
    "collapsed": true
   },
   "outputs": [],
   "source": [
    "_, clf = nb(X_train, X_test, y_train, y_test)"
   ]
  },
  {
   "cell_type": "code",
   "execution_count": 66,
   "metadata": {
    "collapsed": false
   },
   "outputs": [
    {
     "name": "stdout",
     "output_type": "stream",
     "text": [
      "Class d\n",
      "mr yield chairman gentleman speaker time amendment minutes gentlewoman balance committee energy vote california budget people ms new texas oil\n",
      "\n",
      "Class i\n",
      "mr speaker remains minutes jobs yield gentleman trade vote china time wto maryland amplify indiana long wages inquire ohio workers\n",
      "\n",
      "Class r\n",
      "chairman mr yield gentleman time speaker balance amendment minutes reserve committee madam gentlewoman energy new thank vote house ask support\n",
      "\n"
     ]
    }
   ],
   "source": [
    "print_top_features(v, clf, ['d', 'i','r'])"
   ]
  },
  {
   "cell_type": "code",
   "execution_count": 52,
   "metadata": {
    "collapsed": false
   },
   "outputs": [
    {
     "data": {
      "text/plain": [
       "MultinomialNB(alpha=1.0, class_prior=None, fit_prior=True)"
      ]
     },
     "execution_count": 52,
     "metadata": {},
     "output_type": "execute_result"
    }
   ],
   "source": [
    "clf"
   ]
  },
  {
   "cell_type": "code",
   "execution_count": 54,
   "metadata": {
    "collapsed": false
   },
   "outputs": [
    {
     "data": {
      "text/plain": [
       "(3, 15319)"
      ]
     },
     "execution_count": 54,
     "metadata": {},
     "output_type": "execute_result"
    }
   ],
   "source": [
    "clf.coef_.shape"
   ]
  },
  {
   "cell_type": "code",
   "execution_count": 55,
   "metadata": {
    "collapsed": false
   },
   "outputs": [
    {
     "data": {
      "text/plain": [
       "array([ 3183.,    26.,  3153.])"
      ]
     },
     "execution_count": 55,
     "metadata": {},
     "output_type": "execute_result"
    }
   ],
   "source": [
    "clf.class_count_"
   ]
  },
  {
   "cell_type": "code",
   "execution_count": 67,
   "metadata": {
    "collapsed": false
   },
   "outputs": [
    {
     "data": {
      "text/plain": [
       "array([[ -7.37282281, -10.43592784, -10.42524935, ..., -10.43592784,\n",
       "        -10.43592784, -10.43592784],\n",
       "       [ -9.55378543,  -9.62492998,  -9.62492998, ...,  -9.62492998,\n",
       "         -9.62492998,  -9.62492998],\n",
       "       [ -7.61797486, -10.37116572, -10.37116572, ..., -10.37116572,\n",
       "        -10.37116572, -10.37116572]])"
      ]
     },
     "execution_count": 67,
     "metadata": {},
     "output_type": "execute_result"
    }
   ],
   "source": [
    "clf.coef_"
   ]
  },
  {
   "cell_type": "code",
   "execution_count": 65,
   "metadata": {
    "collapsed": true
   },
   "outputs": [],
   "source": [
    "def print_top_features(vectorizer, clf, labels, n=20):\n",
    "    \"\"\"Prints features with the highest coefficient values\"\"\"\n",
    "    feature_names = vectorizer.get_feature_names()\n",
    "    \n",
    "    for i in range(clf.coef_.shape[0]):\n",
    "        print(\"Class {}\".format(labels[i]))\n",
    "        top = np.argsort(clf.coef_[i])[-1*n:]\n",
    "        print(\" \".join(reversed([feature_names[j] for j in top])))\n",
    "        print()"
   ]
  },
  {
   "cell_type": "markdown",
   "metadata": {},
   "source": [
    "## Majority class"
   ]
  },
  {
   "cell_type": "code",
   "execution_count": 14,
   "metadata": {
    "collapsed": false
   },
   "outputs": [
    {
     "name": "stdout",
     "output_type": "stream",
     "text": [
      "2848\n",
      "2786\n",
      "26\n",
      "5660\n"
     ]
    }
   ],
   "source": [
    "print(len([y for y in y_train if y=='d']))\n",
    "print(len([y for y in y_train if y=='r']))\n",
    "print(len([y for y in y_train if y=='i']))\n",
    "print(len(y_train))"
   ]
  },
  {
   "cell_type": "code",
   "execution_count": 28,
   "metadata": {
    "collapsed": false
   },
   "outputs": [
    {
     "data": {
      "text/plain": [
       "0.49061967026719727"
      ]
     },
     "execution_count": 28,
     "metadata": {},
     "output_type": "execute_result"
    }
   ],
   "source": [
    "preds = np.asarray(['d'] * len(y_test))\n",
    "acc = np.mean(preds == y_test)\n",
    "acc"
   ]
  },
  {
   "cell_type": "markdown",
   "metadata": {},
   "source": [
    "## Naive Bayes"
   ]
  },
  {
   "cell_type": "code",
   "execution_count": 40,
   "metadata": {
    "collapsed": false
   },
   "outputs": [],
   "source": [
    "def nb(X_train, X_test, y_train, y_test):\n",
    "    \"\"\" Trains Naive Bayes classifier\n",
    "    Returns (accuracy, classifier)\n",
    "    \"\"\"\n",
    "    \n",
    "    clf = MultinomialNB()\n",
    "    clf.fit(X_train, y_train)\n",
    "\n",
    "    preds = clf.predict(X_test)\n",
    "    acc = np.mean(preds == y_test)\n",
    "    return acc, clf"
   ]
  },
  {
   "cell_type": "markdown",
   "metadata": {},
   "source": [
    "## SVM (one-vs-the-rest classification)"
   ]
  },
  {
   "cell_type": "code",
   "execution_count": 35,
   "metadata": {
    "collapsed": false
   },
   "outputs": [
    {
     "data": {
      "text/plain": [
       "0.7151790790221717"
      ]
     },
     "execution_count": 35,
     "metadata": {},
     "output_type": "execute_result"
    }
   ],
   "source": [
    "clf = svm.LinearSVC()\n",
    "clf.fit(X_train, y_train)\n",
    "preds = clf.predict(X_test)\n",
    "acc = np.mean(preds == y_test)\n",
    "acc"
   ]
  },
  {
   "cell_type": "markdown",
   "metadata": {},
   "source": [
    "## Bag of ngrams (up to trigrams)"
   ]
  },
  {
   "cell_type": "code",
   "execution_count": 36,
   "metadata": {
    "collapsed": false
   },
   "outputs": [
    {
     "name": "stdout",
     "output_type": "stream",
     "text": [
      "(6362, 488683)\n",
      "(1759, 488683)\n"
     ]
    }
   ],
   "source": [
    "v = TfidfVectorizer(min_df=1, ngram_range=(1,3))\n",
    "\n",
    "bow_train = train['text'].values\n",
    "bow_test = test['text'].values\n",
    "y_train = train['party'].values\n",
    "y_test = test['party'].values\n",
    "\n",
    "bow = v.fit(bow_train)\n",
    "bow = v.fit(bow_test)\n",
    "\n",
    "X_train = v.transform(bow_train)\n",
    "X_test = v.transform(bow_test)\n",
    "\n",
    "print(X_train.shape)\n",
    "print(X_test.shape)"
   ]
  },
  {
   "cell_type": "code",
   "execution_count": 38,
   "metadata": {
    "collapsed": false
   },
   "outputs": [
    {
     "data": {
      "text/plain": [
       "0.65321205230244461"
      ]
     },
     "execution_count": 38,
     "metadata": {},
     "output_type": "execute_result"
    }
   ],
   "source": [
    "nb(X_train, X_test, y_train, y_test) # too many features--need feature selection"
   ]
  },
  {
   "cell_type": "markdown",
   "metadata": {},
   "source": [
    "# Create dataset"
   ]
  },
  {
   "cell_type": "markdown",
   "metadata": {},
   "source": [
    "## Training set (and +dev)"
   ]
  },
  {
   "cell_type": "code",
   "execution_count": 29,
   "metadata": {
    "collapsed": false
   },
   "outputs": [
    {
     "data": {
      "text/plain": [
       "5660"
      ]
     },
     "execution_count": 29,
     "metadata": {},
     "output_type": "execute_result"
    }
   ],
   "source": [
    "data_dirpath = '/home/michael/school/research/convote/convote_v1.1/data_stage_one/training_set/'\n",
    "\n",
    "outlines = []\n",
    "\n",
    "for fname in sorted(os.listdir(data_dirpath)):\n",
    "    party = fname[-7].lower()\n",
    "    \n",
    "    with open(os.path.join(data_dirpath, fname)) as f:\n",
    "        text = f.read()\n",
    "        \n",
    "    id = fname[:-4]\n",
    "    \n",
    "    outlines.append([id, party, text])\n",
    "    \n",
    "len(outlines)"
   ]
  },
  {
   "cell_type": "code",
   "execution_count": 5,
   "metadata": {
    "collapsed": false
   },
   "outputs": [],
   "source": [
    "pd.DataFrame(outlines, columns=['id', 'party', 'text']).to_csv('/home/michael/school/research/convote/convote_1train.csv', index=False)"
   ]
  },
  {
   "cell_type": "markdown",
   "metadata": {},
   "source": [
    "### Add dev set"
   ]
  },
  {
   "cell_type": "code",
   "execution_count": 30,
   "metadata": {
    "collapsed": false
   },
   "outputs": [
    {
     "data": {
      "text/plain": [
       "6362"
      ]
     },
     "execution_count": 30,
     "metadata": {},
     "output_type": "execute_result"
    }
   ],
   "source": [
    "data_dirpath = '/home/michael/school/research/convote/convote_v1.1/data_stage_one/development_set/'\n",
    "\n",
    "for fname in sorted(os.listdir(data_dirpath)):\n",
    "    party = fname[-7].lower()\n",
    "    \n",
    "    with open(os.path.join(data_dirpath, fname)) as f:\n",
    "        text = f.read()\n",
    "        \n",
    "    id = fname[:-4]\n",
    "    \n",
    "    outlines.append([id, party, text])\n",
    "    \n",
    "len(outlines)"
   ]
  },
  {
   "cell_type": "code",
   "execution_count": 31,
   "metadata": {
    "collapsed": false
   },
   "outputs": [],
   "source": [
    "pd.DataFrame(outlines, columns=['id', 'party', 'text']).to_csv('/home/michael/school/research/convote/convote_1train_dev.csv', index=False)"
   ]
  },
  {
   "cell_type": "markdown",
   "metadata": {},
   "source": [
    "## Test set"
   ]
  },
  {
   "cell_type": "code",
   "execution_count": 7,
   "metadata": {
    "collapsed": false
   },
   "outputs": [
    {
     "data": {
      "text/plain": [
       "1759"
      ]
     },
     "execution_count": 7,
     "metadata": {},
     "output_type": "execute_result"
    }
   ],
   "source": [
    "data_dirpath = '/home/michael/school/research/convote/convote_v1.1/data_stage_one/test_set/'\n",
    "\n",
    "outlines = []\n",
    "\n",
    "for fname in sorted(os.listdir(data_dirpath)):\n",
    "    party = fname[-7].lower()\n",
    "    \n",
    "    with open(os.path.join(data_dirpath, fname)) as f:\n",
    "        text = f.read()\n",
    "        \n",
    "    id = fname[:-4]\n",
    "    \n",
    "    outlines.append([id, party, text])\n",
    "    \n",
    "len(outlines)"
   ]
  },
  {
   "cell_type": "code",
   "execution_count": 8,
   "metadata": {
    "collapsed": false
   },
   "outputs": [],
   "source": [
    "pd.DataFrame(outlines, columns=['id', 'party', 'text']).to_csv('/home/michael/school/research/convote/convote_1test.csv', index=False)"
   ]
  }
 ],
 "metadata": {
  "kernelspec": {
   "display_name": "Python 3",
   "language": "python",
   "name": "python3"
  },
  "language_info": {
   "codemirror_mode": {
    "name": "ipython",
    "version": 3
   },
   "file_extension": ".py",
   "mimetype": "text/x-python",
   "name": "python",
   "nbconvert_exporter": "python",
   "pygments_lexer": "ipython3",
   "version": "3.6.0"
  }
 },
 "nbformat": 4,
 "nbformat_minor": 2
}
